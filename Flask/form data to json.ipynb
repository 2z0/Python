{
 "cells": [
  {
   "cell_type": "markdown",
   "id": "bizarre-beijing",
   "metadata": {},
   "source": [
    "## Save html form data to json file"
   ]
  },
  {
   "cell_type": "markdown",
   "id": "consistent-process",
   "metadata": {},
   "source": [
    "method = \"post\"인 form data를 담은 html"
   ]
  },
  {
   "cell_type": "code",
   "execution_count": null,
   "id": "weighted-microphone",
   "metadata": {},
   "outputs": [],
   "source": [
    "<!DOCTYPE html>\n",
    "<html lang=\"en\">\n",
    "<head>\n",
    "    <meta charset=\"UTF-8\">\n",
    "    <title>Post</title>\n",
    "</head>\n",
    "<body>\n",
    "     <form action=\"/post\" method=\"post\">\n",
    "        author: <input type = \"text\" name = \"author\" /><br>\n",
    "        description: <input type = \"text\" name = \"description\" /><br>\n",
    "        <button type = \"submit\"/> create json</button>\n",
    "    </form>\n",
    "\n",
    "</body>\n",
    "</html>"
   ]
  },
  {
   "cell_type": "markdown",
   "id": "native-swedish",
   "metadata": {},
   "source": [
    "#### Server"
   ]
  },
  {
   "cell_type": "code",
   "execution_count": null,
   "id": "sexual-alignment",
   "metadata": {},
   "outputs": [
    {
     "name": "stdout",
     "output_type": "stream",
     "text": [
      " * Serving Flask app \"__main__\" (lazy loading)\n",
      " * Environment: production\n",
      "   WARNING: This is a development server. Do not use it in a production deployment.\n",
      "   Use a production WSGI server instead.\n",
      " * Debug mode: off\n"
     ]
    },
    {
     "name": "stderr",
     "output_type": "stream",
     "text": [
      " * Running on http://127.0.0.1:5000/ (Press CTRL+C to quit)\n"
     ]
    }
   ],
   "source": [
    "from flask import Flask, render_template, request \n",
    "app = Flask(__name__)\n",
    "\n",
    "JSON_FOLDER = 'json_folder'\n",
    "\n",
    "@app.route('/')\n",
    "def test():\n",
    "    return render_template('post.html')\n",
    "\n",
    "\n",
    "@app.route('/post', methods=['POST'])\n",
    "def post():\n",
    "    res = request.form\n",
    "    value = request.form['author']\n",
    "    board = request.form['description']\n",
    "\n",
    "    f = open(value + \".json\", 'a+')\n",
    "    f.write('{\\\"author\\\":\\\"' + value + '\\\",\\\"description\\\":\\\"' + board + '\\\"}')\n",
    "    f.close()\n",
    "\n",
    "    return res\n",
    "\n",
    "\n",
    "if __name__ == '__main__':\n",
    "    app.run()"
   ]
  },
  {
   "cell_type": "markdown",
   "id": "noticed-sewing",
   "metadata": {},
   "source": [
    "value값(저자명).json으로 form data에 기입한 정보가 json 형태로 저장된다"
   ]
  }
 ],
 "metadata": {
  "kernelspec": {
   "display_name": "Python 3",
   "language": "python",
   "name": "python3"
  },
  "language_info": {
   "codemirror_mode": {
    "name": "ipython",
    "version": 3
   },
   "file_extension": ".py",
   "mimetype": "text/x-python",
   "name": "python",
   "nbconvert_exporter": "python",
   "pygments_lexer": "ipython3",
   "version": "3.7.6"
  }
 },
 "nbformat": 4,
 "nbformat_minor": 5
}
